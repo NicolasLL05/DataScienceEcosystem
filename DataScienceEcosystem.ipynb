{
 "cells": [
  {
   "cell_type": "markdown",
   "id": "8d96943e-1146-4c2d-9827-5c12517d3878",
   "metadata": {},
   "source": [
    "# Data Science Tools and Ecosystem"
   ]
  },
  {
   "cell_type": "markdown",
   "id": "f6ff32b3-561f-4c9d-a025-0b003fc76e1b",
   "metadata": {},
   "source": [
    "En este cuaderno, se resumen las herramientas y ecosistemas de ciencia de datos."
   ]
  },
  {
   "cell_type": "markdown",
   "id": "de910d64-e675-4e44-a978-3bab533b5cde",
   "metadata": {},
   "source": [
    "**Objetivos:**\n",
    "\n",
    "- Listar lenguajes populares para Ciencia de Datos  \n",
    "- Identificar herramientas de desarrollo utilizadas en Ciencia de Datos  \n",
    "- Comprender las bibliotecas comunes de Python  \n",
    "- Aprender sobre expresiones aritméticas en Python  \n",
    "- Introducir el uso de Jupyter Notebooks\n"
   ]
  },
  {
   "cell_type": "markdown",
   "id": "05f95a9a-9b8e-477d-b487-b7eb172142ea",
   "metadata": {},
   "source": [
    "Algunos de los lenguajes populares que utilizan los científicos de datos son:\n",
    "1. Python\n",
    "2. R\n",
    "3. SQL\n"
   ]
  },
  {
   "cell_type": "markdown",
   "id": "095f6bfb-1d5f-4e5f-a626-4d62873827e9",
   "metadata": {},
   "source": [
    "Algunas de las bibliotecas comúnmente utilizadas por los científicos de datos incluyen:\n",
    "1. NumPy – Para cálculos numéricos y manejo eficiente de arreglos y matrices.\n",
    "2. Pandas – Para manipulación y análisis de datos estructurados.\n",
    "3. Matplotlib – Para crear visualizaciones como gráficos de líneas, barras y dispersión.\n"
   ]
  },
  {
   "cell_type": "markdown",
   "id": "e2b3e446-2c39-42e6-aa38-9be6e7ae071a",
   "metadata": {},
   "source": [
    "| Herramientas de Ciencia de Datos         |\n",
    "|------------------------------------------|\n",
    "| Jupyter Notebook                         |\n",
    "| RStudio                                  |\n",
    "| Visual Studio Code                       |\n"
   ]
  },
  {
   "cell_type": "markdown",
   "id": "ca264e64-3357-4384-8d37-ffc430bd0743",
   "metadata": {},
   "source": [
    "A continuación, se presentan algunos ejemplos de evaluación de expresiones aritméticas en Python:\n",
    "1. `+` → Suma (por ejemplo: `5 + 3`)\n",
    "2. `-` → Resta (por ejemplo: `10 - 4`)\n",
    "3. `*` → Multiplicación (por ejemplo: `7 * 2`)\n",
    "4. `/` → División (por ejemplo: `8 / 2`)\n",
    "5. `//` → División entera (por ejemplo: `9 // 2`)\n",
    "6. `%` → Módulo o residuo (por ejemplo: `10 % 3`)\n",
    "7. `**` → Potenciación (por ejemplo: `2 ** 3`)\n"
   ]
  },
  {
   "cell_type": "code",
   "execution_count": 3,
   "id": "1f9b0fbe-70d6-4367-800f-8926faccfd7b",
   "metadata": {},
   "outputs": [
    {
     "data": {
      "text/plain": [
       "17"
      ]
     },
     "execution_count": 3,
     "metadata": {},
     "output_type": "execute_result"
    }
   ],
   "source": [
    "(3*4)+5"
   ]
  },
  {
   "cell_type": "markdown",
   "id": "74669019-ee68-4789-a68c-b94bb3282565",
   "metadata": {
    "jp-MarkdownHeadingCollapsed": true
   },
   "source": [
    "<!-- Esto convertirá 200 minutos a horas dividiendo por 60: Esto convertirá 200 minutos a horas dividiendo por 60:  -->"
   ]
  },
  {
   "cell_type": "code",
   "execution_count": 4,
   "id": "7914e10a-5b15-41bf-ba13-f76970dda0c6",
   "metadata": {},
   "outputs": [
    {
     "data": {
      "text/plain": [
       "3.3333333333333335"
      ]
     },
     "execution_count": 4,
     "metadata": {},
     "output_type": "execute_result"
    }
   ],
   "source": [
    "200/60"
   ]
  },
  {
   "cell_type": "markdown",
   "id": "fe29a2d7-4aac-40e8-ab17-60bb819b4dd1",
   "metadata": {},
   "source": [
    "## Autor\n",
    "Nicolas Lara"
   ]
  },
  {
   "cell_type": "code",
   "execution_count": null,
   "id": "fd440a7a-53ad-4ae5-8602-bcdc9e0286f1",
   "metadata": {},
   "outputs": [],
   "source": []
  }
 ],
 "metadata": {
  "kernelspec": {
   "display_name": "Python [conda env:pp_Env]",
   "language": "python",
   "name": "conda-env-pp_Env-py"
  },
  "language_info": {
   "codemirror_mode": {
    "name": "ipython",
    "version": 3
   },
   "file_extension": ".py",
   "mimetype": "text/x-python",
   "name": "python",
   "nbconvert_exporter": "python",
   "pygments_lexer": "ipython3",
   "version": "3.12.9"
  }
 },
 "nbformat": 4,
 "nbformat_minor": 5
}
